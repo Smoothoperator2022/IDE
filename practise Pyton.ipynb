{
 "cells": [
  {
   "cell_type": "code",
   "execution_count": 15,
   "metadata": {},
   "outputs": [
    {
     "name": "stdout",
     "output_type": "stream",
     "text": [
      "[1, 27, 125, 343, 729, 1331, 2197, 3375, 4913, 6859]\n",
      "The first item is:['pizza', 'falafel', 'carrot', 'cake', 'pork']\n"
     ]
    }
   ],
   "source": [
    "mil_list = [value for value in range(1,1000001)]\n",
    "#print (sum(mil_list))\n",
    "\n",
    "cubes = [value**3 for value in range (1,20,2)]\n",
    "print (cubes)\n",
    "\n",
    "food = ['pizza', 'falafel', 'carrot', 'cake']\n",
    "his_food = food[:]\n",
    "his_food.append('pork')\n",
    "print (f\"The first item is:{his_food[:]}\")"
   ]
  },
  {
   "cell_type": "code",
   "execution_count": 19,
   "metadata": {},
   "outputs": [
    {
     "name": "stdout",
     "output_type": "stream",
     "text": [
      "['korgy', 'james', 'bob', 'mary', 'rob']\n",
      "Available korgy\n",
      "Available james\n",
      "Repeat bob\n",
      "Repeat mary\n",
      "Available rob\n",
      "['1st', '2nd', '3rd', '4th', '5th', '6th', '7th', '8th', '9th']\n"
     ]
    }
   ],
   "source": [
    "admin_list = ['Bob', 'Jack', 'Mary', 'Korg', 'Mc', 'admin']\n",
    "new_list = ['Korgy', 'James', 'BOB', 'Mary', 'Rob']\n",
    "\n",
    "admin_list_low = []\n",
    "new_list_low = []\n",
    "\n",
    "for name in admin_list:\n",
    "  admin_list_low.append(name.lower())\n",
    "\n",
    "for name in new_list:\n",
    "  new_list_low.append(name.lower())\n",
    "\n",
    "print (new_list_low)\n",
    "\n",
    "for name in new_list_low:\n",
    "  if name in admin_list_low:\n",
    "    print ('Repeat', name)\n",
    "  else:\n",
    "    print ('Available', name) \n",
    "    \n",
    "number_list = [1,2,3,4,5,6,7,8,9]\n",
    "number_list_new = []\n",
    "\n",
    "for number in number_list:\n",
    "  if number == 1:\n",
    "    number_list_new.append (str(number) + 'st')\n",
    "  elif number == 2:\n",
    "    number_list_new.append (str(number) + 'nd')\n",
    "  elif number == 3:\n",
    "    number_list_new.append (str(number) + 'rd')\n",
    "  else:\n",
    "    number_list_new.append (str(number) + 'th')\n",
    "\n",
    "print (number_list_new)"
   ]
  },
  {
   "cell_type": "code",
   "execution_count": 3,
   "metadata": {},
   "outputs": [
    {
     "name": "stdout",
     "output_type": "stream",
     "text": [
      "bad: Bob afvd\n",
      "worth:\n",
      "\tvalfm.\n",
      "\t(want to make this string from another indent)\n",
      "\tkbmsrmvmr ROb\n",
      "the worst: Java\n"
     ]
    }
   ],
   "source": [
    "any_dict = {'bad': 'Bob afvd', \n",
    "            'worth': 'valfm.\\n(want to make this string from another indent)\\nkbmsrmvmr ROb', \n",
    "            'the worst': 'Java'}\n",
    "\n",
    "for key, value in any_dict.items():\n",
    "    if key == 'worth':\n",
    "        print(key + ':')\n",
    "        for line in value.split('\\n'):\n",
    "            print('\\t' + line)\n",
    "    else:\n",
    "        print(key + ': ' + value)"
   ]
  }
 ],
 "metadata": {
  "kernelspec": {
   "display_name": "Python 3",
   "language": "python",
   "name": "python3"
  },
  "language_info": {
   "codemirror_mode": {
    "name": "ipython",
    "version": 3
   },
   "file_extension": ".py",
   "mimetype": "text/x-python",
   "name": "python",
   "nbconvert_exporter": "python",
   "pygments_lexer": "ipython3",
   "version": "3.10.7"
  },
  "orig_nbformat": 4,
  "vscode": {
   "interpreter": {
    "hash": "52634da84371cba311ea128a5ea7cdc41ff074b781779e754b270ff9f8153cee"
   }
  }
 },
 "nbformat": 4,
 "nbformat_minor": 2
}
