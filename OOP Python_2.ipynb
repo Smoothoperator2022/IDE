{
 "cells": [
  {
   "cell_type": "code",
   "execution_count": null,
   "metadata": {},
   "outputs": [],
   "source": [
    "# practise class Point(x,y)\n",
    "class Point:\n",
    "  \n",
    "  list_points = []\n",
    "  \n",
    "  def __init__ (self, coord_x = 0, coord_y = 0) -> None:\n",
    "    self.move_to (coord_x, coord_y) # self.x = coord_x    self.y = coord_y\n",
    "    Point.list_points.append(self)  \n",
    "    \n",
    "  def move_to (self, new_x, new_y):\n",
    "    self.x = new_x\n",
    "    self.y = new_y\n",
    "    \n",
    "  def go_home (self):\n",
    "    self.move_to (0, 0) # self.x = 0  self.y = 0\n",
    "    \n",
    "  def print_point (self):\n",
    "    print (f\"Point with coordinates ({self.x},{self.y})\")\n",
    "    \n",
    "  def calc_distance (self, another_point):\n",
    "    if not isinstance (another_point, Point):\n",
    "      raise ValueError (\"Argument must belong to class Point\")\n",
    "    \n",
    "    return ((self.x - another_point.x) ** 2 + (self.y - another_point.y) ** 2) ** 0,5\n",
    "\n",
    "\n",
    "p1 = Point()\n",
    "p1.print_point()\n",
    "p1.move_to(6,4)\n",
    "p1.print_point()\n",
    "p2 = Point (6,0)\n",
    "p3 = Point (0,8)\n",
    "p2.calc_distance(p3)\n",
    "#p2.calc_distance(9)\n",
    "print (Point.list_points)\n",
    "p1, p2\n",
    "print (Point.list_points[1].x)\n"
   ]
  },
  {
   "cell_type": "code",
   "execution_count": 5,
   "metadata": {},
   "outputs": [
    {
     "name": "stdout",
     "output_type": "stream",
     "text": [
      "Jack is 4 years old\n",
      "Jack says Woof\n"
     ]
    }
   ],
   "source": [
    "class Dog:\n",
    "  \n",
    "  def __init__(self, name, age):\n",
    "    self.name = name\n",
    "    self.age = age\n",
    "    \n",
    "  def description (self):\n",
    "    print (f\"{self.name} is {self.age} years old\")\n",
    "    \n",
    "  def speak (self, dog_str):\n",
    "    print (f\"{self.name} says {dog_str}\")\n",
    "    \n",
    "jack = Dog(\"Jack\", 4)\n",
    "jack.description() # when use print, it shows None - print (jack.description())\n",
    "jack.speak(\"Woof\")\n",
    "\n"
   ]
  },
  {
   "cell_type": "code",
   "execution_count": null,
   "metadata": {},
   "outputs": [],
   "source": []
  }
 ],
 "metadata": {
  "kernelspec": {
   "display_name": "Python 3",
   "language": "python",
   "name": "python3"
  },
  "language_info": {
   "codemirror_mode": {
    "name": "ipython",
    "version": 3
   },
   "file_extension": ".py",
   "mimetype": "text/x-python",
   "name": "python",
   "nbconvert_exporter": "python",
   "pygments_lexer": "ipython3",
   "version": "3.10.7"
  },
  "orig_nbformat": 4
 },
 "nbformat": 4,
 "nbformat_minor": 2
}
