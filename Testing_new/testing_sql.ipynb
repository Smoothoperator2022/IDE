{
 "cells": [
  {
   "cell_type": "code",
   "execution_count": null,
   "metadata": {},
   "outputs": [],
   "source": [
    "# открываем базу\n",
    "with con:\n",
    "    # получаем количество таблиц с нужным нам именем\n",
    "    data = con.execute(\"select count(*) from sqlite_master where type='table' and name='mus_s1'\")\n",
    "    for row in data:\n",
    "        # если таких таблиц нет\n",
    "        if row[0] == 0:\n",
    "            \n",
    "            # создаём таблицу для товаров\n",
    "            with con:\n",
    "                con.execute(\"\"\"\n",
    "                    CREATE TABLE goods (\n",
    "                        product VARCHAR(20) PRIMARY KEY,\n",
    "                        count INTEGER,\n",
    "                        price INTEGER\n",
    "                    );\n",
    "                \"\"\")"
   ]
  },
  {
   "cell_type": "code",
   "execution_count": 20,
   "metadata": {},
   "outputs": [],
   "source": [
    "import sqlite3 as sq\n",
    "# открываем файл с базой данных\n",
    "con = sq.connect('mus_schedule.db')\n",
    "with con:\n",
    "    con.execute(\"\"\"\n",
    "        CREATE TABLE IF NOT EXISTS mus_s1 (\n",
    "           id PRIMARY KEY,\n",
    "           date DATETIME,\n",
    "           quantity INTEGER,\n",
    "           contact INTEGER VARCHAR (13) UNIQUE\n",
    "\n",
    ");\n",
    "    \"\"\")\n",
    "    \n"
   ]
  },
  {
   "cell_type": "code",
   "execution_count": 25,
   "metadata": {},
   "outputs": [
    {
     "name": "stdout",
     "output_type": "stream",
     "text": [
      "<sqlite3.Cursor object at 0x00000231BD44F340>\n",
      "('chuvak', '24.02.2023', 3, 153151381)\n",
      "('boy', '24.02.2023', 7, 364563456)\n",
      "('girl', '24.02.2023', 5, 5688313550000)\n"
     ]
    },
    {
     "ename": "IntegrityError",
     "evalue": "UNIQUE constraint failed: mus_s1.id",
     "output_type": "error",
     "traceback": [
      "\u001b[1;31m---------------------------------------------------------------------------\u001b[0m",
      "\u001b[1;31mIntegrityError\u001b[0m                            Traceback (most recent call last)",
      "Cell \u001b[1;32mIn [25], line 7\u001b[0m\n\u001b[0;32m      4\u001b[0m \u001b[39mfor\u001b[39;00m row \u001b[39min\u001b[39;00m data:\n\u001b[0;32m      5\u001b[0m     \u001b[39mprint\u001b[39m (row)\n\u001b[1;32m----> 7\u001b[0m con\u001b[39m.\u001b[39;49mexecute(\u001b[39m\"\"\"\u001b[39;49m\u001b[39mINSERT INTO mus_s1 VALUES\u001b[39;49m\n\u001b[0;32m      8\u001b[0m \u001b[39m            (\u001b[39;49m\u001b[39m'\u001b[39;49m\u001b[39mgirl\u001b[39;49m\u001b[39m'\u001b[39;49m\u001b[39m,\u001b[39;49m\u001b[39m'\u001b[39;49m\u001b[39m24.02.2023\u001b[39;49m\u001b[39m'\u001b[39;49m\u001b[39m,\u001b[39;49m\u001b[39m'\u001b[39;49m\u001b[39m5\u001b[39;49m\u001b[39m'\u001b[39;49m\u001b[39m,\u001b[39;49m\u001b[39m'\u001b[39;49m\u001b[39m5688313550000\u001b[39;49m\u001b[39m'\u001b[39;49m\u001b[39m)\u001b[39;49m\u001b[39m\"\"\"\u001b[39;49m)\n",
      "\u001b[1;31mIntegrityError\u001b[0m: UNIQUE constraint failed: mus_s1.id"
     ]
    }
   ],
   "source": [
    "with con:\n",
    "    data = con.execute(\"SELECT * FROM mus_s1\")\n",
    "    print(data)\n",
    "    for row in data:\n",
    "        print (row)\n",
    "\n",
    "    con.execute(\"\"\"INSERT INTO mus_s1 VALUES\n",
    "                ('girl','24.02.2023','5','5688313550000')\"\"\")\n",
    "    "
   ]
  },
  {
   "cell_type": "code",
   "execution_count": 26,
   "metadata": {},
   "outputs": [
    {
     "data": {
      "text/plain": [
       "<function Connection.close()>"
      ]
     },
     "execution_count": 26,
     "metadata": {},
     "output_type": "execute_result"
    }
   ],
   "source": [
    "con.close\n",
    "\n"
   ]
  },
  {
   "cell_type": "code",
   "execution_count": 18,
   "metadata": {},
   "outputs": [
    {
     "ename": "OperationalError",
     "evalue": "database is locked",
     "output_type": "error",
     "traceback": [
      "\u001b[1;31m---------------------------------------------------------------------------\u001b[0m",
      "\u001b[1;31mOperationalError\u001b[0m                          Traceback (most recent call last)",
      "Cell \u001b[1;32mIn [18], line 1\u001b[0m\n\u001b[1;32m----> 1\u001b[0m cur\u001b[39m.\u001b[39;49mexecute(\u001b[39m\"\"\"\u001b[39;49m\n\u001b[0;32m      2\u001b[0m \u001b[39m        INSERT INTO movie VALUES\u001b[39;49m\n\u001b[0;32m      3\u001b[0m \u001b[39m            (\u001b[39;49m\u001b[39m'\u001b[39;49m\u001b[39mMonty Python and the Holy Grail\u001b[39;49m\u001b[39m'\u001b[39;49m\u001b[39m, 1975, 8.2),\u001b[39;49m\n\u001b[0;32m      4\u001b[0m \u001b[39m            (\u001b[39;49m\u001b[39m'\u001b[39;49m\u001b[39mAnd Now for Something Completely Different\u001b[39;49m\u001b[39m'\u001b[39;49m\u001b[39m, 1971, 7.5)\u001b[39;49m\n\u001b[0;32m      5\u001b[0m \u001b[39m\"\"\"\u001b[39;49m)\n",
      "\u001b[1;31mOperationalError\u001b[0m: database is locked"
     ]
    }
   ],
   "source": [
    "\n",
    "cur.execute(\"\"\"\n",
    "        INSERT INTO movie VALUES\n",
    "            ('Monty Python and the Holy Grail', 1975, 8.2),\n",
    "            ('And Now for Something Completely Different', 1971, 7.5)\n",
    "\"\"\")\n",
    "#con.commit()\n",
    "#res = cur.execute(\"SELECT score FROM movie\")\n",
    "#res.fetchall()"
   ]
  }
 ],
 "metadata": {
  "kernelspec": {
   "display_name": "Python 3",
   "language": "python",
   "name": "python3"
  },
  "language_info": {
   "codemirror_mode": {
    "name": "ipython",
    "version": 3
   },
   "file_extension": ".py",
   "mimetype": "text/x-python",
   "name": "python",
   "nbconvert_exporter": "python",
   "pygments_lexer": "ipython3",
   "version": "3.10.7"
  },
  "orig_nbformat": 4,
  "vscode": {
   "interpreter": {
    "hash": "52634da84371cba311ea128a5ea7cdc41ff074b781779e754b270ff9f8153cee"
   }
  }
 },
 "nbformat": 4,
 "nbformat_minor": 2
}
