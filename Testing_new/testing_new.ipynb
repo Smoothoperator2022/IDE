{
 "cells": [
  {
   "cell_type": "code",
   "execution_count": 1,
   "metadata": {},
   "outputs": [
    {
     "ename": "SyntaxError",
     "evalue": "incomplete input (2940761243.py, line 16)",
     "output_type": "error",
     "traceback": [
      "\u001b[1;36m  Cell \u001b[1;32mIn [1], line 16\u001b[1;36m\u001b[0m\n\u001b[1;33m    print(\"Email sent successfully!\")\u001b[0m\n\u001b[1;37m                                     ^\u001b[0m\n\u001b[1;31mSyntaxError\u001b[0m\u001b[1;31m:\u001b[0m incomplete input\n"
     ]
    }
   ],
   "source": [
    "import smtplib\n",
    "from email.mime.text import MIMEText\n",
    "from email.mime.multipart import MIMEMultipart\n",
    "\n",
    "def send_email(subject, body, to_email, from_email, password):\n",
    "    msg = MIMEMultipart()\n",
    "    msg[\"From\"] = from_email\n",
    "    msg[\"To\"] = to_email\n",
    "    msg[\"Subject\"] = subject\n",
    "    msg.attach(MIMEText(body, \"plain\"))\n",
    "\n",
    "    try:\n",
    "        with smtplib.SMTP_SSL(\"smtp.gmail.com\", 465) as server:\n",
    "            server.login(from_email, password)\n",
    "            server.sendmail(from_email, to_email, msg.as_string())\n",
    "            print(\"Email sent successfully!\")\n",
    "            \n",
    "send_email('response', )\n"
   ]
  },
  {
   "cell_type": "code",
   "execution_count": null,
   "metadata": {},
   "outputs": [],
   "source": [
    "import re\n",
    "\n",
    "text = \"3 людей\"\n",
    "list_numbers = re.findall(r'\\d+', text)\n",
    "\n",
    "print(list_numbers)\n",
    "\n",
    "text = \"23 особи\"\n",
    "\n",
    "# Знаходимо всі цифри у тексті та зберігаємо їх як рядок\n",
    "digits_str = ''.join(re.findall('\\d+', text))\n",
    "\n",
    "# Перетворюємо рядок з цифрами на integer\n",
    "digits_int = int(digits_str)\n",
    "\n",
    "print(digits_int)  # виведе 23\n",
    "\n",
    "phone_number = '21456'\n",
    "\n",
    "\"\"\"^ означає початок рядка\n",
    "\\+? перевіряє, чи присутній символ \"+\", який може бути або немає в номері телефону\n",
    "\\d{6,13} перевіряє, чи присутні в рядку рівно 6-13 цифр\n",
    "$ означає кінець рядка\"\"\"\n",
    "\n",
    "re.match(r'^\\+?\\d{6,13}$', phone_number)"
   ]
  },
  {
   "cell_type": "code",
   "execution_count": null,
   "metadata": {},
   "outputs": [],
   "source": [
    "import datetime\n",
    "\n",
    "\"\"\"Зверніть увагу, що я змінив деякі частини вашого коду:\n",
    "datetime.datetime.now().time() замість datetime.now().time(), щоб отримати поточний час з датою.\n",
    "datetime.timedelta замість просто timedelta, оскільки ви імпортували timedelta з модуля datetime,\n",
    "але не з модуля datetime.datetime.\n",
    "datetime.datetime.combine(datetime.date.today(), current_time) замість datetime.combine(datetime.min,\n",
    "current_time), оскільки datetime.min містить дату 1 січня 1 року, а не поточну дату, тому\n",
    "datetime.datetime.combine(datetime.min, current_time) може дати неправильні результати при додаванні до\n",
    "поточного часу.\"\"\"\n",
    "\n",
    "import datetime\n",
    "\n",
    "time_1 = datetime.time(12, 0)  # 12:00 PM, наприклад\n",
    "today = datetime.date.today()  # поточна дата\n",
    "datetime_1 = datetime.datetime.combine(today, time_1)  # комбінуємо дату та час\n",
    "datetime_2 = datetime_1 + datetime.timedelta(hours=1)  # додаємо одну годину\n",
    "time_2 = datetime_2.time()  # отримуємо час з datetime_2\n",
    "\n",
    "print (time_1, time_2)\n",
    "\n",
    "# створюємо дату 20 лютого 2023 року\n",
    "date = datetime.date(2023, 2, 20)\n",
    "\n",
    "# створюємо час 13:30:00\n",
    "time = datetime.time(13, 30, 0)\n",
    "\n",
    "# створюємо дату та час 20 лютого 2023 року о 13:30:00\n",
    "datetime_obj = datetime.datetime(2023, 2, 20, 13, 30, 0)\n",
    "\n",
    "#щоб отримати поточну дату та час\n",
    "now = datetime.datetime.now()\n",
    "\n",
    "#щоб отримати час через годину від поточного моменту\n",
    "current_time = datetime.datetime.now().time()  # поточний час\n",
    "delta_hours = datetime.timedelta(hours=1)  # різниця у 1 години\n",
    "new_time = (datetime.datetime.combine(datetime.date.today(), current_time) + delta_hours).time() # новий час\n",
    "\n",
    "print('new_time: ', new_time)\n",
    "\n",
    "print('now: ',now)\n",
    "\n",
    "print('date: ', date)\n",
    "print('time: ', time)\n",
    "print('datetime: ', datetime_obj)\n",
    "\n",
    "date_1 = datetime.date(2023, 3, 5)\n",
    "formatted_date = date_1.strftime('%d, %m, %Y')\n",
    "\n",
    "print (date_1)\n",
    "print(formatted_date)  # виведе '05, 03, 2023'"
   ]
  }
 ],
 "metadata": {
  "kernelspec": {
   "display_name": "Python 3",
   "language": "python",
   "name": "python3"
  },
  "language_info": {
   "codemirror_mode": {
    "name": "ipython",
    "version": 3
   },
   "file_extension": ".py",
   "mimetype": "text/x-python",
   "name": "python",
   "nbconvert_exporter": "python",
   "pygments_lexer": "ipython3",
   "version": "3.10.7"
  },
  "orig_nbformat": 4,
  "vscode": {
   "interpreter": {
    "hash": "52634da84371cba311ea128a5ea7cdc41ff074b781779e754b270ff9f8153cee"
   }
  }
 },
 "nbformat": 4,
 "nbformat_minor": 2
}
