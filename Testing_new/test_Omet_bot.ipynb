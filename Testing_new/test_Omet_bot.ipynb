{
 "cells": [
  {
   "cell_type": "code",
   "execution_count": 4,
   "metadata": {},
   "outputs": [
    {
     "name": "stdout",
     "output_type": "stream",
     "text": [
      "v;njsnjbndjf\n",
      "    vsd.fnsjnbjng\n",
      "        s.kvmkmrkmvmkm\n",
      "            elvmeklvm\n"
     ]
    }
   ],
   "source": [
    "a = 'v;njsnjbndjf\\n\\\n",
    "    vsd.fnsjnbjng\\n\\\n",
    "        s.kvmkmrkmvmkm\\n\\\n",
    "            elvmeklvm'\n",
    "            \n",
    "print(a)"
   ]
  },
  {
   "cell_type": "code",
   "execution_count": 3,
   "metadata": {},
   "outputs": [],
   "source": [
    "import sqlite3 as sq\n",
    "\n",
    "with sq.connect('museum_schedule.db') as con:\n",
    "    cur=con.cursor()\n",
    "    \n",
    "    #cur.execute(\"Drop Table IF EXISTS tour_schedule\")\n",
    "    \n",
    "    cur.execute(\"\"\"Create Table If Not Exists tour_schedule(\n",
    "                user_id Text,\n",
    "                name Text,\n",
    "                mobile_phone Integer,\n",
    "                quantity Integer,\n",
    "                date Datetime)\"\"\")\n",
    "    \n",
    "    \n"
   ]
  }
 ],
 "metadata": {
  "kernelspec": {
   "display_name": "Python 3",
   "language": "python",
   "name": "python3"
  },
  "language_info": {
   "codemirror_mode": {
    "name": "ipython",
    "version": 3
   },
   "file_extension": ".py",
   "mimetype": "text/x-python",
   "name": "python",
   "nbconvert_exporter": "python",
   "pygments_lexer": "ipython3",
   "version": "3.10.7"
  },
  "orig_nbformat": 4,
  "vscode": {
   "interpreter": {
    "hash": "52634da84371cba311ea128a5ea7cdc41ff074b781779e754b270ff9f8153cee"
   }
  }
 },
 "nbformat": 4,
 "nbformat_minor": 2
}
