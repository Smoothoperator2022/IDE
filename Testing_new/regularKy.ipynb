{
 "cells": [
  {
   "cell_type": "code",
   "execution_count": 1,
   "metadata": {},
   "outputs": [
    {
     "name": "stdout",
     "output_type": "stream",
     "text": [
      "<re.Match object; span=(0, 3), match='утк'>\n",
      "<re.Match object; span=(5, 7), match='по'>\n",
      "(5, 7)\n",
      "oт топота копыт пыль по полю летит\n",
      "по\n",
      "['Не', 'не']\n"
     ]
    }
   ],
   "source": [
    "import re\n",
    "s = \"утка крякает, кукушка кукует, петух кукарекает\"\n",
    "match = re.match(r'утк', s) # r'..' - searching; 's' - variable\n",
    "print(match)\n",
    "\n",
    "#Пример использования re.search с дополнительными методами\n",
    "s = \"oт топота копыт пыль по полю летит\"\n",
    "match = re.search(r'по', s)\n",
    "\"\"\"re.search() – находит первое вхождение фрагмента в любом месте и возвращает объект match.\n",
    "Если в строке есть другие фрагменты, соответствующие запросу, re.search их проигнорирует.\n",
    "У re.search есть дополнительные методы:\n",
    ".span() – возвращает кортеж, содержащий начальную и конечную позиции искомого фрагмента.\n",
    ".string – вернет строку, переданную в функцию re.search.\n",
    ".group() – возвращает фрагмент строки, в котором было обнаружено совпадение.\"\"\"\n",
    "print(match, match.span(), match.string, match.group(), sep='\\n')\n",
    "\n",
    "\"\"\"re.findall() – находит все вхождения фрагмента, в любом месте. Функция re.findall() учитывает регистр\n",
    "символов. Чтобы в результат вошли фрагменты с символами в другом регистре, применяют флаг re.IGNORECASE:\"\"\"\n",
    "s = \"Не видно, ликвидны акции или неликвидны.\"\n",
    "match = re.findall(r'не', s, re.I)\n",
    "print(match)"
   ]
  }
 ],
 "metadata": {
  "kernelspec": {
   "display_name": "Python 3",
   "language": "python",
   "name": "python3"
  },
  "language_info": {
   "codemirror_mode": {
    "name": "ipython",
    "version": 3
   },
   "file_extension": ".py",
   "mimetype": "text/x-python",
   "name": "python",
   "nbconvert_exporter": "python",
   "pygments_lexer": "ipython3",
   "version": "3.10.7"
  },
  "orig_nbformat": 4
 },
 "nbformat": 4,
 "nbformat_minor": 2
}
