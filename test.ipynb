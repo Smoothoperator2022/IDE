{
 "cells": [
  {
   "cell_type": "code",
   "execution_count": null,
   "metadata": {},
   "outputs": [],
   "source": [
    "# формируем словарь из всех римских чисел и новых комбинаций\n",
    "all_roman = [(1000, 'M'), (900, 'CM'), (500, 'D'), (400, 'CD'), (100, 'C'), (90, 'XC'), (50, 'L'), (40, 'XL'), (10, 'X'), (9, 'IX'), (5, 'V'), (4, 'IV'), (1, 'I')]\n",
    "\n",
    "# функция перевода чисел в римскую систему счисления\n",
    "def to_roman(num):\n",
    "    # на старте в римском числе ничего нет\n",
    "    roman = ''\n",
    "    # пока наше число больше нуля\n",
    "    while num > 0:\n",
    "        # перебираем все пары из словаря\n",
    "        for i, r in all_roman:\n",
    "            # пока наше число больше или равно числу из словаря\n",
    "            while num >= i:\n",
    "                # добавляем соответствующую букву в римское число\n",
    "                roman += r\n",
    "                # вычитаем словарное число из нашего числа\n",
    "                num -= i\n",
    "    # как все циклы закончились — возвращаем римское число\n",
    "    return roman\n",
    "\n",
    "print(\"Число 2022 в римской системе = \" + to_roman(2022))"
   ]
  }
 ],
 "metadata": {
  "kernelspec": {
   "display_name": "Python 3",
   "language": "python",
   "name": "python3"
  },
  "language_info": {
   "name": "python",
   "version": "3.10.7"
  },
  "orig_nbformat": 4,
  "vscode": {
   "interpreter": {
    "hash": "52634da84371cba311ea128a5ea7cdc41ff074b781779e754b270ff9f8153cee"
   }
  }
 },
 "nbformat": 4,
 "nbformat_minor": 2
}
