{
 "cells": [
  {
   "cell_type": "code",
   "execution_count": 1,
   "metadata": {},
   "outputs": [
    {
     "name": "stdout",
     "output_type": "stream",
     "text": [
      "{'seat': 4, 'model': 'Lada'}\n"
     ]
    },
    {
     "data": {
      "text/plain": [
       "'BMW'"
      ]
     },
     "execution_count": 1,
     "metadata": {},
     "output_type": "execute_result"
    }
   ],
   "source": [
    "a=[4,5,34]\n",
    "s='sdfvd'\n",
    "type(s)\n",
    "type(4.5)\n",
    "isinstance(4,object)\n",
    "type(int)\n",
    "\n",
    "class Car:\n",
    "    model = 'BMW'\n",
    "    engine = 1.6\n",
    "\n",
    "a1 = Car()\n",
    "a2 = Car()\n",
    "isinstance(a1,Car)\n",
    "type (a)\n",
    "a1.model\n",
    "a2.engine\n",
    "a1.seat = 4 # add only \"a1\" attribute\n",
    "a1.model = 'Lada'\n",
    "print (a1.__dict__)\n",
    "a1.engine # take attribute from class Car\n",
    "del a1.model # delete current attribute of a1 example model \"Lada\"\n",
    "a1.model # but attribute of class Car \"BMW\" will be\n",
    "\n"
   ]
  },
  {
   "cell_type": "code",
   "execution_count": 15,
   "metadata": {},
   "outputs": [
    {
     "name": "stdout",
     "output_type": "stream",
     "text": [
      "100\n"
     ]
    }
   ],
   "source": [
    "class Person:\n",
    "    name = \"Ivan\"\n",
    "    age = 30\n",
    "    \n",
    "Person.__dict__# dictionary of attributes\n",
    "\n",
    "getattr(Person, 'age')\n",
    "getattr(Person,'x',100) # if no such attribute write '100'\n",
    "\n",
    "Person.name = 'Misha' #rename attribute\n",
    "Person.name\n",
    "\n",
    "Person.x = 100 #create an attribute\n",
    "setattr(Person,'y',200) #create or change attribute\n",
    "\n",
    "del Person.x\n",
    "delattr(Person,'y') #2 methods of deleting attributes\n",
    "Person.__dict__\n",
    "\n",
    "a = Person()\n",
    "b = Person()\n",
    "Person.z = 100 #when add an attribute, variables \"a\" and \"b\" get same attributes \n",
    "print(a.z)"
   ]
  },
  {
   "cell_type": "code",
   "execution_count": 26,
   "metadata": {},
   "outputs": [
    {
     "name": "stdout",
     "output_type": "stream",
     "text": [
      "Hello world from kitty (<__main__.Cat object at 0x000001F48D7488B0>,)\n",
      "None <__main__.Cat object at 0x000001F48D7488B0>\n",
      "my bread is pers\n",
      "my bread is siam\n",
      "nothing\n",
      "my name is MARY\n",
      "nothing\n",
      "my name is TOM\n"
     ]
    },
    {
     "data": {
      "text/plain": [
       "0"
      ]
     },
     "execution_count": 26,
     "metadata": {},
     "output_type": "execute_result"
    }
   ],
   "source": [
    "class Cat:\n",
    "    breed = 'pers'\n",
    "    def hello (*args): #in argument we set a instance\n",
    "        print(\"Hello world from kitty\", args)\n",
    "        \n",
    "    def show_breed(instance): # self\n",
    "        print(f'my bread is {instance.breed}')\n",
    "        \n",
    "    def show_name(instance): # self\n",
    "        if hasattr(instance,'name'):\n",
    "            print(f'my name is {instance.name}')\n",
    "        else:\n",
    "            print('nothing')\n",
    "    \n",
    "    def set_value(koshka, value, age=0): # koshka == self\n",
    "        koshka.name = value # self\n",
    "        koshka.age = age # self\n",
    "        \n",
    "jim = Cat()       \n",
    "print (jim.hello(), jim)\n",
    "\n",
    "walt = Cat()\n",
    "walt.show_breed()\n",
    "walt.breed = 'siam'\n",
    "walt.show_breed()\n",
    "\n",
    "mary = Cat()\n",
    "mary.show_name()\n",
    "mary.name = 'MARY'\n",
    "mary.show_name()\n",
    "\n",
    "tom = Cat()\n",
    "tom.show_name()\n",
    "tom.set_value(\"TOM\")\n",
    "tom.name\n",
    "tom.show_name()\n",
    "\n",
    "jerry = Cat()\n",
    "jerry.set_value(\"JERRY\")\n",
    "jerry.age"
   ]
  },
  {
   "cell_type": "code",
   "execution_count": 13,
   "metadata": {},
   "outputs": [
    {
     "name": "stdout",
     "output_type": "stream",
     "text": [
      "Rrrr!!!\n",
      "Current value is:  1\n",
      "Current value is:  0\n"
     ]
    }
   ],
   "source": [
    "\n",
    "class Lion():\n",
    "    def roar(fwre):\n",
    "        print('Rrrr!!!')\n",
    "        \n",
    "simba = Lion()\n",
    "simba.roar()\n",
    "\n",
    "class Counter():\n",
    "    def start_from(self, value = 0):\n",
    "        self.value = value\n",
    "                   \n",
    "    def increment(self): #why without value?\n",
    "        self.value += 1 # why self.value and not value without self?\n",
    "            \n",
    "    def display(self):\n",
    "        print (\"Current value is: \", self.value)\n",
    "    \n",
    "    def reset(self): # why here without value\n",
    "        self.value = 0\n",
    "\n",
    "c1 = Counter ()\n",
    "c1.start_from()\n",
    "c1.increment()\n",
    "c1.display()\n",
    "c1.reset()\n",
    "c1.display()\n",
    "\n"
   ]
  },
  {
   "cell_type": "code",
   "execution_count": 21,
   "metadata": {},
   "outputs": [
    {
     "data": {
      "text/plain": [
       "5.0"
      ]
     },
     "execution_count": 21,
     "metadata": {},
     "output_type": "execute_result"
    }
   ],
   "source": [
    "class Point():\n",
    "    def set_coordinates(self, x, y):\n",
    "        #self.set_coordinates = x, y\n",
    "        self.x = x\n",
    "        self.y = y\n",
    "    \n",
    "    def get_distance (self, point): # 9**0.5\n",
    "        # self.get_distance = (point (y) - self (y)) ** 2\n",
    "        return ((point.y - self.y) ** 2 + (point.x - self.x) ** 2) ** 0.5\n",
    "        \n",
    "p1 = Point()\n",
    "p2 = Point()\n",
    "p1.set_coordinates(1, 2)\n",
    "p2.set_coordinates (4, 6)\n",
    "p1.get_distance (p2)\n",
    "\n"
   ]
  },
  {
   "cell_type": "code",
   "execution_count": 17,
   "metadata": {},
   "outputs": [
    {
     "name": "stdout",
     "output_type": "stream",
     "text": [
      "hello new object is  <__main__.Cat object at 0x0000022C720DE320> Walt pers 2 white\n",
      "hello new object is  <__main__.Cat object at 0x0000022C720DFD60> kelly pers 40 white\n"
     ]
    }
   ],
   "source": [
    "class Cat:\n",
    "    # breed = 'pers'\n",
    "\n",
    "    # def set_value(self, value, age=0): - no need in this cause of def __init__\n",
    "    #     self.name = value\n",
    "    #     self.age = age\n",
    "        \n",
    "    def __init__(self, name, breed = 'pers', age = 2, color = 'white'): # attribute which will be shown\n",
    "        print ('hello new object is ', self, name, breed, age, color)\n",
    "        self.a = name \n",
    "        self.b = breed # value of function\\\n",
    "        # can name it 'a','b'\n",
    "        self.c = age\n",
    "        self.d = color\n",
    "        \n",
    "walt = Cat ('Walt')\n",
    "\n",
    "kelly = Cat ('kelly', age=40)"
   ]
  },
  {
   "cell_type": "code",
   "execution_count": 10,
   "metadata": {},
   "outputs": [
    {
     "name": "stdout",
     "output_type": "stream",
     "text": [
      "5700\n",
      "hp15-sdvfs\n",
      "Messi Leo - goals: 500, assistence: 700\n"
     ]
    }
   ],
   "source": [
    "class Laptop():\n",
    "  def __init__(self, brand, model, price):\n",
    "    self.brand = brand\n",
    "    self.model = model\n",
    "    self.price = price\n",
    "    self.laptop_name = self.brand + self.model\n",
    "  \n",
    "hp = Laptop ('hp', '15-sdvfs', 5700)\n",
    "print (hp.price)\n",
    "print (hp.laptop_name)\n",
    "\n",
    "class SoccerPlayer():\n",
    "  def __init__(self, name, surname) -> None:\n",
    "    self.name = name\n",
    "    self.surname = surname\n",
    "    self.goals = 0\n",
    "    self.assists = 0\n",
    "    \n",
    "  def score (self, goals = 1):\n",
    "    self.goals += goals\n",
    "    \n",
    "  def make_assist (self, assist = 1):\n",
    "    self.assists += assist\n",
    "    \n",
    "  def statistics (self):\n",
    "    print (f\"{self.surname} {self.name} - goals: {self.goals}, assistence: {self.assists}\")\n",
    "    \n",
    "\n",
    "\n",
    "leo = SoccerPlayer('Leo', 'Messi')\n",
    "leo.score(500)\n",
    "leo.make_assist(700)\n",
    "leo.statistics()\n",
    "\n",
    "class Person():\n",
    "  def __init__(self, firs_name, last_name, age) -> None:\n",
    "    self.first_name = firs_name\n",
    "    self.last_name = last_name\n",
    "    self.age = age\n",
    "    \n",
    "  def full_name(self):\n",
    "    print (self.last_name + ' '+ self.first_name)\n",
    "    \n",
    "  def is_adult(self):\n",
    "    if self.age > 18:\n",
    "      print ('True')\n",
    "    else:\n",
    "      print ('False')\n",
    "\n",
    "\n",
    "p1 = Person('Jimi','Hendrix',17)\n",
    "p1.full_name()\n",
    "p1.is_adult()\n",
    "\n"
   ]
  },
  {
   "cell_type": "code",
   "execution_count": 35,
   "metadata": {},
   "outputs": [
    {
     "name": "stdout",
     "output_type": "stream",
     "text": [
      "White stripe\n",
      "Black stripe\n",
      "White stripe\n",
      "Black stripe\n",
      "White stripe\n",
      "Black stripe\n"
     ]
    }
   ],
   "source": [
    "class Zebra():\n",
    "  def __init__(self) -> None:\n",
    "    self\n",
    "    \n",
    "  def which_stripe(self):\n",
    "    self = \"White stripe\"\n",
    "    print (self)\n",
    "    if self:\n",
    "      print (\"Black stripe\")\n",
    "    \n",
    "      \n",
    "z1 = Zebra()\n",
    "z1.which_stripe()\n",
    "z1.which_stripe()\n",
    "z1.which_stripe()"
   ]
  }
 ],
 "metadata": {
  "kernelspec": {
   "display_name": "Python 3",
   "language": "python",
   "name": "python3"
  },
  "language_info": {
   "codemirror_mode": {
    "name": "ipython",
    "version": 3
   },
   "file_extension": ".py",
   "mimetype": "text/x-python",
   "name": "python",
   "nbconvert_exporter": "python",
   "pygments_lexer": "ipython3",
   "version": "3.10.7"
  },
  "orig_nbformat": 4,
  "vscode": {
   "interpreter": {
    "hash": "52634da84371cba311ea128a5ea7cdc41ff074b781779e754b270ff9f8153cee"
   }
  }
 },
 "nbformat": 4,
 "nbformat_minor": 2
}
